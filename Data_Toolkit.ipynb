{
 "cells": [
  {
   "cell_type": "markdown",
   "id": "5ac69fc5-a98d-499f-a32f-789cbcbc06f0",
   "metadata": {},
   "source": [
    "#DATA TOOLKIT ASSIGNMENT\n",
    "--"
   ]
  },
  {
   "cell_type": "markdown",
   "id": "4c462ece-ddae-43e6-82f5-c06d7f6d8c36",
   "metadata": {},
   "source": [
    "**1. <A What is NumPy, and why is it widely used in Python?** \n",
    "- Numpy is a powerful python library used for scientific computing. It offers powerfull features for working with  multidimensional arrays amd performing various mathematical operations efficiently.\n",
    "- **It is widely used because:**\n",
    "- It provides efficient storage and operations on large data arrays.\n",
    "- It supports multidimensional arrays and matrices.\n",
    "- It offers many built in mathematical  and statistical funcitons.\n",
    "- It enables broadcasting for efficient operations.\n",
    "- It is the foundation for data science and machine learning libraries."
   ]
  },
  {
   "cell_type": "markdown",
   "id": "1f53dd9d-ae40-4bf6-862e-a8e7031c46da",
   "metadata": {},
   "source": [
    "**2. How does broadcasting work in NumPy?** \n",
    "- Broadcasting in numpy allows arrays of different types to be used together in a arithmetic operation.It automatically expands smaller array so that it matches the larger array without making extra copies.It makes operations faster and memory efficient."
   ]
  },
  {
   "cell_type": "code",
   "execution_count": null,
   "id": "09fe74be-e3be-4748-aa6a-19c4a3f27d3f",
   "metadata": {},
   "outputs": [],
   "source": [
    "import numpy as np \n",
    "a = np.array([1,2,3])\n",
    "b = 10\n",
    "c = a+b \n",
    "print(c)"
   ]
  },
  {
   "cell_type": "markdown",
   "id": "7e9b8bce-685e-4d9d-8974-5e1f7859e534",
   "metadata": {},
   "source": [
    "**3. What is a Pandas DataFrame?** \n",
    "- A pandas dataframe is a two dimensional, tabular data structure in python.It is similar to that of a excel spreadsheet having rows and columns.Each column can have different data structure.Pandas library is widely used for data analysis and data manipulation. It can load data from different file formats such as(CSV,Excel, SQL)."
   ]
  },
  {
   "cell_type": "markdown",
   "id": "f1385997-b6a8-4146-b243-cc7c5b34ce75",
   "metadata": {},
   "source": [
    "**4. Explain the use of the groupby() method in Pandas?** \n",
    "- This method spit the data into groups then apply the function  to the each group and combines the data into new data frame.It is widely used for data aggregation, summarization and analysing data."
   ]
  },
  {
   "cell_type": "code",
   "execution_count": null,
   "id": "c8fac3ff-c814-49a5-ba48-c030b667b919",
   "metadata": {},
   "outputs": [],
   "source": [
    "import pandas as pd \n",
    "data = {\n",
    "    'Department': ['HR', 'HR', 'IT', 'IT', 'Finance'],\n",
    "    'Employee': ['A', 'B', 'C', 'D', 'E'],\n",
    "    'Salary': [30000, 32000, 40000, 42000, 35000]\n",
    "} \n",
    "df = pd.DataFrame(data)\n",
    "grouping = df.groupby('Department')['Salary'].sum() \n",
    "print(grouping)"
   ]
  },
  {
   "cell_type": "markdown",
   "id": "6866abf5-263c-4378-991f-fa9d819d3107",
   "metadata": {},
   "source": [
    "**5. Why is Seaborn preferred for statistical visualizations?** \n",
    "- Seaborn is preferred for statistical  visualization because it provides high level, easy to use functions for building attractive and informative chart.It is built on top of matlplotlib and integrates well with  pandas.It has built in themese and simplifies complex visualization. "
   ]
  },
  {
   "cell_type": "code",
   "execution_count": null,
   "id": "d5ffa7a1-2881-4a68-ab66-bcb1f0048234",
   "metadata": {},
   "outputs": [],
   "source": [
    "import pandas as pd \n",
    "import seaborn as sns \n",
    "\n",
    "df = pd.DataFrame({\n",
    "    'Category': ['A', 'B', 'A', 'B'],\n",
    "    'Value': [10, 20, 15, 25]\n",
    "})\n",
    "sns.barplot(x = 'Category', y = 'Value', data= df)"
   ]
  },
  {
   "cell_type": "markdown",
   "id": "a90823f1-2daa-4373-b9f7-979359f0cd06",
   "metadata": {},
   "source": [
    "**6. What are the differences between NumPy arrays and Python lists?** \n",
    "-  **Python Lists**\n",
    "-  These are slower and less memory efficient.\n",
    "-  They can store mix data types.\n",
    "-  They do not provide contiguous memory locations.\n",
    "-  They provides only basic functionality, no math functions.\n",
    "-  They require loops for operations.\n",
    "-  They do not have broadcasting support.\n",
    "-  **Numpy Array**\n",
    "-  They can store only same data types.\n",
    "-  They are faster and more memory efficient as compare to the Lists.\n",
    "-  They provide contiguos memory locations.\n",
    "-  They have broadcasting support.\n",
    "-  They support advance mathematical functions like linear algebra."
   ]
  },
  {
   "cell_type": "markdown",
   "id": "e600ead6-6de5-44a2-b936-8f0cece84378",
   "metadata": {},
   "source": [
    "**7. What is a heatmap, and when should it be used?** \n",
    "- Heatmap is the data visualization technique that uses colors to represent the values of data table.Each cell in the heat table uses color intensity to show the value,making it easier to identify patterns and correlations.\n",
    "- **Uses:**\n",
    "- To identify patterns and trends across the data.\n",
    "- To highlight relationships between two variable in a dataset.\n",
    "- To detect missing and abnormal values in datasets.\n",
    "- To visualize correlation matrices in statistics."
   ]
  },
  {
   "cell_type": "markdown",
   "id": "5b8a2cb3-657b-49f9-9b52-1f19cf4db4d6",
   "metadata": {},
   "source": [
    "**8. What does the term “vectorized operation” mean in NumPy?** \n",
    "- In NumPy, vectorized operation means performing operations on the entire arrays without using explicit loops. NumPy applies the operation element wise in a fast and efficient way.\n",
    "- Vectorized operations are faster because they are implemented using low level C code make use of optimised algorithnms.They are also more concise and easier to write. "
   ]
  },
  {
   "cell_type": "code",
   "execution_count": null,
   "id": "d695cf7a-e84e-4682-8fb1-e1be3e9b5aca",
   "metadata": {},
   "outputs": [],
   "source": [
    "a = np.array([1,2,3])\n",
    "b = 10\n",
    "c = a+b \n",
    "print(c)"
   ]
  },
  {
   "cell_type": "markdown",
   "id": "68b668d0-8213-4dbe-9116-4e6ae1a976c1",
   "metadata": {},
   "source": [
    "**9. How does Matplotlib differ from Plotly?**\n",
    "- **Matplotlib** is a static plotting library ideal for creating static and publication quality plots.\n",
    "- It is highly customizable  but requires more code.\n",
    "- It provides limited interactivity as it requires additional libraries for basic interactivity.\n",
    "- Matplotlib output are typically static image file such as PNG,JPG and PDF.\n",
    "- It is best suited for scientific  visualizations and simple data analysis tasks that do not require interaction.\n",
    "- **Plotly** is an interactive plotting library that is ideal for web based, interactive visualization and dashboard.\n",
    "- It is easy to use because it provide simpler syntax for complex plots.\n",
    "- It is ideal for situation where users need to interact with data.\n",
    "- Customization in plotly is simple and easy to implement as it requires less code than matplotlib to create complex and attractive chart."
   ]
  },
  {
   "cell_type": "markdown",
   "id": "3900dc11-53f7-4337-ad3b-0c13680ef47a",
   "metadata": {},
   "source": [
    "**10. What is the significance of hierarchical indexing in Pandas?** \n",
    "- It is also known as multi level indexing.It is a feature in pandas that allows dataframe or series to have multiple indexes on a single axis.\n",
    "- **Signigicance of  hierarchical indexing**\n",
    "- It allows better organisation of data by having multiple key making it easier to group and analyse complex data.\n",
    "- It helps in efficient data selection and slicing because you can access data by multiple indexing levels.\n",
    "- It makes it possible to reshape data structures such as stacking and unstacking which are usefull for converting  data between long and wide formats.\n",
    "- It simplifies  working with data with  multiple dimensions."
   ]
  },
  {
   "cell_type": "markdown",
   "id": "72a5b89f-2ab8-4646-a90f-9a22d5427648",
   "metadata": {},
   "source": [
    "**11. What is the role of Seaborn’s pairplot() function?** \n",
    "- The pairplot() function in seaborn is useful for quickly visualizing relationships in datasets with multiple numerical features.It plots scatterplot between every pair of numerical columns in dataset"
   ]
  },
  {
   "cell_type": "markdown",
   "id": "9940cb72-a2e5-47fe-93c5-08dea8d84c20",
   "metadata": {},
   "source": [
    "**12. What is the purpose of the describe() function in Pandas?**\n",
    "- The describe func in pandas is useful for quickly summarizing the data and understanding the  distribution and spread of values in data set.\n",
    "- It gives a quick statistical  overview of the dataset, including measures like count, mean, standard deviation , min, max, and quartiles(25%,50%,75%).\n",
    "- It helps in Exploratory Data Analysis by summarizing basic characteristics of numerical columns."
   ]
  },
  {
   "cell_type": "markdown",
   "id": "82a2ada2-43f6-474d-8880-15a1aa208ffd",
   "metadata": {},
   "source": [
    "**13. Why is handling missing data important in Pandas?** \n",
    "- Handling missing data is important in Pandas because incomplete or missing values can lead to inaccurate analysis, misleading results and errors in data processing.Many statistical  and machine learning models can not operate on missing data and may fail to run or provide incorrect outcomes if missing values are not addressed.\n",
    "- It ensures data quality.\n",
    "- It prevents errors.\n",
    "- It maintains statistical performance.\n",
    "- It improves model performance.\n",
    "- **Missing data can be handled by:**\n",
    "- dropna():  removing rows and columns with missing values.\n",
    "- fillna():  fill missing values with special value, mean, median or mode."
   ]
  },
  {
   "cell_type": "markdown",
   "id": "2e6468cb-c496-4a1d-a5ae-d1c247c8858d",
   "metadata": {},
   "source": [
    "**14. What are the benefits of using Plotly for data visualization?** \n",
    "- Plotly is simple and intuitive , allowing users to create complex and beautiful visualization  with less code.\n",
    "- It is highly customizable  allowing users to customize every aspect of the chart.\n",
    "- It supports a large variety of chart types(line,bar,scatter and 3D) making it highly versatile library.\n",
    "- It is easily embeddable in web applications.\n",
    "- Plotly can handle large datasets efficiently and still provides smooth interactivity."
   ]
  },
  {
   "cell_type": "markdown",
   "id": "b81ee21d-a4e0-43a4-9939-70db8a55050c",
   "metadata": {},
   "source": [
    "**15. How does NumPy handle multidimensional arrays?** \n",
    "- Numpy handles multidimensional array by providing fast storage, easy manipulations, broadcasting and mathematical operations on  data, making it ideal for scientific computing and data analysis."
   ]
  },
  {
   "cell_type": "markdown",
   "id": "38406e03-28f5-40e3-ab63-621e4a0bdd34",
   "metadata": {},
   "source": [
    "**16. What is the role of Bokeh in data visualization?** \n",
    "- Bokeh is the python library used for creating interactive and visually appealing data visualization for the web.It's main role is to help users make interactive charts, dashboard and data applications that can be easily shared or embedded in the websites.\n",
    "- Bokeh is designed to handle and display large data sets efficiently in the browser."
   ]
  },
  {
   "cell_type": "markdown",
   "id": "0324a878-5aca-42dc-a990-ad4b68537fc1",
   "metadata": {},
   "source": [
    "**17. Explain the difference between apply() and map() in Pandas?** \n",
    "- **map():** function is works only on one dimensional data(series).\n",
    "- It is often used with function or dictionary for mapping values.\n",
    "- It is mainly used for simple operation such as value transformation and substitution.\n",
    "- **apply():** function is works with both series and data frames.\n",
    "- It can apply function along an axis or to each element in the series. \n",
    "- It is more flexible and can be used for complex operations."
   ]
  },
  {
   "cell_type": "markdown",
   "id": "4351c790-e559-4127-a1d5-f05a710381c8",
   "metadata": {},
   "source": [
    "**18. What are some advanced features of NumPy?** \n",
    "- **Multidimensional array** NumPy supports n dimensional arrays, allowing efficient storage and manipulation of complex datasets.\n",
    "- **Broadcasting** enables arithmatic operation between arrays of different shapes improving performance and saving memory.\n",
    "- **Vectorized Operation** performs element wise operation on entire arrays without loops making computations faster and more efficient.\n",
    "- **Linear Algebra Function** provides built in functions for matrix multiplication,determinants and other linear algebra operations.\n",
    "- **Fourier Transform and Signal Processing** include fourier transform capabilities(numpy.fft) for signal processing and frequency analysis. \n",
    "- **Random Number Generation** offers a random module for generating random numbers and sampling from various probability distributors, useful for simulation and statistical  analysis.\n",
    "- **Memory Mapping for large Files** supports memory mapped arrays, allowing users to work with larger data sets that don't fit into the memory entirely by accessing data in chunks."
   ]
  },
  {
   "cell_type": "markdown",
   "id": "6effe20e-86e0-4ac1-a83c-e9e8b73c5d7f",
   "metadata": {},
   "source": [
    "**19. How does Pandas simplify time series analysis?** \n",
    "- Pandas simplify time series analysisby providing powerful tools and functions that make it easy to work with dates and times, analyze trends and manipulate time based data.Ways panda simplify time series analysis are:\n",
    "- **Date Time Indexing** python allows date time objects to be used as indexes of the data frames and series making time based data easy to filter,sort and slice.\n",
    "- **Date Range Generation** python can create date range automatically with daterange() func,useful for generating time based sequences.\n",
    "- **Time Zone Handling** Pandas supports time zone conversions and  localization.\n",
    "- **Rolling and Expanding Windows** allows computing rolling statistics  and compute cumulative statistics.\n",
    "- **Shifting and Lagging** supports shift() and lag operations to compare time periods and create lagged features for analysis.\n",
    "- **Handling Missing Time Data** Provides easy handling of missing timestamps and filling gaps in time series with fillna(), interpolate() etc."
   ]
  },
  {
   "cell_type": "markdown",
   "id": "d134624a-48a2-4211-9ac5-285ceea0574d",
   "metadata": {},
   "source": [
    "**20. What is the role of a pivot table in Pandas?** \n",
    "- A pivot table is a powerful tool used to summarise, analyze and organise data in a tabular format.It allows to group data and perform aggregation, making it easier to understand and extracts insights from large datasets."
   ]
  },
  {
   "cell_type": "markdown",
   "id": "8ea50f72-2ba1-49a5-aa51-960285c24fb5",
   "metadata": {},
   "source": [
    "**21 Why is NumPy’s array slicing faster than Python’s list slicing?** \n",
    "- NumPy array slicing is faster because of contiguous memory location,C optimization, vectorized operation and fixed data types.When you slice a numpy array it returns view of orignal data without copying the elements, making slicing efficient and faster. "
   ]
  },
  {
   "cell_type": "markdown",
   "id": "8eb1102f-6740-466e-ae62-0b2c7b8f0bcd",
   "metadata": {},
   "source": [
    "**22. What are some common use cases for Seaborn?** \n",
    "- Seaborn is commonly used for statistical visualizations, data exploration and creating clean and attractive plots with minimal code.\n",
    "- **Statistical Visualization** Scatter plots, line plots, pair plots and regression plots to analyse realtionships between variables.\n",
    "- **Data Exploration** Histograms,KDE plots,box plots and violin plots to understand data distributions.\n",
    "- **Creating Claen and Attractive Plots** Heatmaps, bar plots and multi-plot grids for presentation ready visuals with minimal code."
   ]
  },
  {
   "cell_type": "markdown",
   "id": "30cc3a6d-451e-4285-8692-d338f470a726",
   "metadata": {},
   "source": [
    "#Practical Questions \n",
    "--"
   ]
  },
  {
   "cell_type": "code",
   "execution_count": null,
   "id": "bff447eb-968d-4d83-915f-1b73b91fe714",
   "metadata": {},
   "outputs": [],
   "source": [
    "#1. How do you create a 2D NumPy array and calculate the sum of each row? \n",
    "import numpy as np \n",
    "array_2d = np.array([[1,2,3],\n",
    "                    [4,5,6], \n",
    "                    [7,8,9]])\n",
    "row_sum = array_2d.sum(axis=1)\n",
    "print(f\"\"\"\n",
    "2d Array: \n",
    "{array_2d}\n",
    "Sum of each row: {row_sum}\"\"\")"
   ]
  },
  {
   "cell_type": "code",
   "execution_count": null,
   "id": "ea20bc1b-9f08-43f4-835f-68251483d926",
   "metadata": {},
   "outputs": [],
   "source": [
    "#2. Write a Pandas script to find the mean of a specific column in a DataFrame. \n",
    "import pandas as pd \n",
    "\n",
    "data = {\n",
    "    \"Name\": [\"Alice\", \"Bob\", \"Charlie\", \"David\"],\n",
    "    \"Age\": [25,30,35,40],\n",
    "    'Salary': [50000,60000,70000,80000]}\n",
    "df = pd.DataFrame(data)\n",
    "mean_salary = df[\"Salary\"].mean() \n",
    "print(f'''\n",
    "DataFrame:\n",
    "{df} \n",
    "\n",
    "Mean Salary: {mean_salary}''')"
   ]
  },
  {
   "cell_type": "code",
   "execution_count": null,
   "id": "5775cbfd-e13f-4e5a-80ea-182e040c6b20",
   "metadata": {},
   "outputs": [],
   "source": [
    "#3. Create a scatter plot using Matplotlib. \n",
    "import matplotlib.pyplot as plt \n",
    "x = np.array([1,2,3,4,5,])\n",
    "y = np.array([2,3,5,7,11])\n",
    "plt.scatter(x,y,color='brown', marker='D', s=100, alpha = 0.6)\n",
    "plt.title(\"Customized scatter Plot\")\n",
    "plt.xlabel('X-axis')\n",
    "plt.ylabel('Y-axis')\n",
    "plt.show()\n"
   ]
  },
  {
   "cell_type": "code",
   "execution_count": null,
   "id": "caf7b85b-734a-4387-b367-f1732d9ada96",
   "metadata": {},
   "outputs": [],
   "source": [
    "#4. A How do you calculate the correlation matrix using Seaborn and visualize it with a heatmap. \n",
    "data = {\n",
    "    'A': [1, 2, 3, 4, 5],\n",
    "    'B': [5, 4, 3, 2, 1],\n",
    "    'C': [2, 3, 4, 5, 6]\n",
    "}\n",
    "df = pd.DataFrame(data) \n",
    "corr_matrix = df.corr()\n",
    "sns.heatmap(corr_matrix, annot = True, cmap = 'coolwarm',fmt= '.2f')\n",
    "print(f'''\n",
    "DataFrame: \n",
    "{df} \n",
    "Correlation Matrix: \n",
    "{corr_matrix} ''')\n",
    "plt.title('Correlation Matrix')\n",
    "plt.show()"
   ]
  },
  {
   "cell_type": "code",
   "execution_count": null,
   "id": "c4f9c904-9e79-46d3-9d94-681f7f3433da",
   "metadata": {},
   "outputs": [],
   "source": [
    "#5. Generate a bar plot using Plotly. \n",
    "import plotly.express as px \n",
    "\n",
    "categories = ['A', 'B', 'C', 'D']\n",
    "values = [10, 20, 15, 25] \n",
    "fig = px.bar(x = categories, y = values,labels={'x': 'Category','y': 'Value'},color= categories, text=values, title =\"Bar Plot Example\" )\n",
    "fig.show()"
   ]
  },
  {
   "cell_type": "code",
   "execution_count": null,
   "id": "bdf10c78-3f8f-4b66-b3b7-b8d2fadcf22b",
   "metadata": {},
   "outputs": [],
   "source": [
    "#6. A Create a DataFrame and add a new column based on an existing column. \n",
    "data = {\n",
    "    'Name': ['Alice', 'Bob', 'Charlie', 'David'],\n",
    "    'Age': [25, 30, 35, 40],\n",
    "    'Salary': [50000, 60000, 70000, 80000]\n",
    "} \n",
    "df = pd.DataFrame(data) \n",
    "df['Bonus'] = df['Salary'] * .10 \n",
    "df['Satus']= ['Young' if age < 35 else 'Senior' for age in df['Age']]\n",
    "print(df)"
   ]
  },
  {
   "cell_type": "code",
   "execution_count": null,
   "id": "fd8fed62-38aa-4136-939c-a3ce274dcba1",
   "metadata": {},
   "outputs": [],
   "source": [
    "#7. Write a program to perform element-wise multiplication of two NumPy arrays \n",
    "array1 = np.array([1, 2, 3, 4])\n",
    "array2 = np.array([5, 6, 7, 8])\n",
    "result = array1 * array2\n",
    "print(f'''\n",
    "Array 1: {array1} \n",
    "Array 2: {array2} \n",
    "Element wise Multiplication: {result}''')"
   ]
  },
  {
   "cell_type": "code",
   "execution_count": 75,
   "id": "a6974f01-b769-47b5-ac17-b61270037f9f",
   "metadata": {},
   "outputs": [
    {
     "data": {
      "image/png": "[encoded data removed]",
      "text/plain": [
       "<Figure size 800x600 with 1 Axes>"
      ]
     },
     "metadata": {},
     "output_type": "display_data"
    }
   ],
   "source": [
    "#8 Create a line plot with multiple lines using Matplotlib. \n",
    "x = np.linspace(0,10,100) \n",
    "y1 = np.sin(x) \n",
    "y2 = np.cos(x) \n",
    "y3 = np.sin(x + 0.5) \n",
    "\n",
    "plt.figure(figsize=(8,6)) \n",
    "\n",
    "plt.plot(x, y1, label = 'sin(x)', color = 'blue', marker ='o')\n",
    "plt.plot(x, y2, label= 'cos(x)', color = 'brown', marker = '*',linestyle = '--')\n",
    "plt.plot(x,y3, label= 'sin(x+0.5)', color = 'green', marker= 's', linestyle= ':')\n",
    "\n",
    "plt.xlabel('X-axis')\n",
    "plt.ylabel('Y-axis')\n",
    "plt.title('Line Plot using Multiple Lines')\n",
    "plt.legend()\n",
    "\n",
    "plt.grid(True)\n",
    "plt.show()"
   ]
  },
  {
   "cell_type": "code",
   "execution_count": 73,
   "id": "be5f094b-0f43-4e7b-9225-dce05c6781d5",
   "metadata": {},
   "outputs": [
    {
     "name": "stdout",
     "output_type": "stream",
     "text": [
      "\n",
      "Orignal DataFrame: \n",
      "    A   B   C\n",
      "0   5  34  66\n",
      "1   7  26  23\n",
      "2  20  10   4\n",
      "3  79  42  17\n",
      "4  77  99  90\n",
      "5   9  24   1\n",
      "6  82  65   4\n",
      "7  42  26  18\n",
      "8  73  11  75\n",
      "9  34  61  86\n",
      "\n",
      "Filtered DataFram where column A > 50\n",
      "    A   B   C\n",
      "3  79  42  17\n",
      "4  77  99  90\n",
      "6  82  65   4\n",
      "8  73  11  75 \n"
     ]
    }
   ],
   "source": [
    "#9. A Generate a Pandas DataFrame and filter rows where a column value is greater than a threshold. \n",
    "data = {\n",
    "    'A': np.random.randint(0,100,10), \n",
    "    'B': np.random.randint(0,100,10),\n",
    "    'C': np.random.randint(0,100,10)\n",
    "}\n",
    "df = pd.DataFrame(data) \n",
    "threshold = 50 \n",
    "filtered_df = df[df['A'] >threshold] \n",
    "print(f'''\n",
    "Orignal DataFrame: \n",
    "{df}\n",
    "\n",
    "Filtered DataFram where column A > {threshold}\n",
    "{filtered_df} ''')\n"
   ]
  },
  {
   "cell_type": "code",
   "execution_count": 106,
   "id": "fb2be58d-8a70-4d6d-86f5-ffe9f8f43f09",
   "metadata": {},
   "outputs": [
    {
     "data": {
      "image/png": "[encoded data removed]",
      "text/plain": [
       "<Figure size 800x600 with 1 Axes>"
      ]
     },
     "metadata": {},
     "output_type": "display_data"
    }
   ],
   "source": [
    "#10 A Create a histogram using Seaborn to visualize a distribution. \n",
    "np.random.seed(42) \n",
    "data = np.random.normal(loc=50, scale=10, size = 1000)\n",
    "\n",
    "plt.figure(figsize=(8,6))\n",
    "sns.histplot(data,kde=True, color='brown', bins=30)\n",
    "\n",
    "plt.xlabel('Values')\n",
    "plt.ylabel('Frequency')\n",
    "plt.title('Histogram of sample data with KDE')\n",
    "plt.show() "
   ]
  },
  {
   "cell_type": "code",
   "execution_count": 112,
   "id": "64870656-78a6-46fd-9ba8-75e84655f5ed",
   "metadata": {},
   "outputs": [
    {
     "name": "stdout",
     "output_type": "stream",
     "text": [
      "\n",
      "Matrix A:\n",
      "[[1 2 3]\n",
      " [4 5 6]]\n",
      "\n",
      "Matrix B: \n",
      "[[ 7  8]\n",
      " [ 9 10]\n",
      " [11 12]]\n",
      "\n",
      "Multiplication of A*B: \n",
      "[[ 58  64]\n",
      " [139 154]]\n"
     ]
    }
   ],
   "source": [
    "#11. A Perform matrix multiplication using NumPy \n",
    "A = np.array([[1,2,3],\n",
    "              [4,5,6]])\n",
    "B = np.array([[7,8],\n",
    "             [9,10], \n",
    "             [11,12]])\n",
    "result = A @ B \n",
    "print(f'''\n",
    "Matrix A:\n",
    "{A}\n",
    "\n",
    "Matrix B: \n",
    "{B}\n",
    "\n",
    "Multiplication of A*B: \n",
    "{result}''')"
   ]
  },
  {
   "cell_type": "code",
   "execution_count": 118,
   "id": "e730333f-379c-417d-b47b-ab8b46896dff",
   "metadata": {},
   "outputs": [
    {
     "name": "stdout",
     "output_type": "stream",
     "text": [
      "First 5 rows of DataFrame: \n",
      "            RowNumber   Surname  CreditScore Geography  Gender  Age  Tenure  \\\n",
      "CustomerId                                                                    \n",
      "15634602            1  Hargrave          619    France  Female   42       2   \n",
      "15647311            2      Hill          608     Spain  Female   41       1   \n",
      "15619304            3      Onio          502    France  Female   42       8   \n",
      "15701354            4      Boni          699    France  Female   39       1   \n",
      "15737888            5  Mitchell          850     Spain  Female   43       2   \n",
      "\n",
      "              Balance  NumOfProducts  HasCrCard  IsActiveMember  \\\n",
      "CustomerId                                                        \n",
      "15634602         0.00              1          1               1   \n",
      "15647311     83807.86              1          0               1   \n",
      "15619304    159660.80              3          1               0   \n",
      "15701354         0.00              2          0               0   \n",
      "15737888    125510.82              1          1               1   \n",
      "\n",
      "            EstimatedSalary  Exited  \n",
      "CustomerId                           \n",
      "15634602          101348.88       1  \n",
      "15647311          112542.58       0  \n",
      "15619304          113931.57       1  \n",
      "15701354           93826.63       0  \n",
      "15737888           79084.10       0  \n"
     ]
    }
   ],
   "source": [
    "#12. Use Pandas to load a CSV file and display its first 5 rows \n",
    "\n",
    "df = pd.read_csv('Bank_churn.csv', index_col=1)\n",
    "print(f\"First 5 rows of DataFrame: \\n{df.head()}\")\n"
   ]
  },
  {
   "cell_type": "code",
   "execution_count": 128,
   "id": "449e3461-5b19-4b0f-8d6b-b4354ed0fe51",
   "metadata": {},
   "outputs": [
    {
     "data": {
      "application/vnd.plotly.v1+json": {
       "config": {
        "plotlyServerURL": "https://plot.ly"
       },
       "data": [
        {
         "marker": {
          "color": [
           0.6420316461542878,
           0.08413996499504883,
           0.16162871409461377,
           0.8985541885270792,
           0.6064290596595899,
           0.009197051616629648,
           0.1014715428660321,
           0.6635017691080558,
           0.005061583846218687,
           0.16080805141749865,
           0.5487337893665861,
           0.6918951976926933,
           0.6519612595026005,
           0.22426930946055978,
           0.7121792213475359,
           0.23724908749680007,
           0.3253996981592677,
           0.7464914051180241,
           0.6496328990472147,
           0.8492234104941779,
           0.6576128923003434,
           0.5683086033354716,
           0.09367476782809248,
           0.3677158030594335,
           0.26520236768172545,
           0.24398964337908358,
           0.9730105547524456,
           0.3930977246667604,
           0.8920465551771133,
           0.6311386259972629,
           0.7948113035416484,
           0.5026370931051921,
           0.5769038846263591,
           0.4925176938188639,
           0.1952429877980445,
           0.7224521152615053,
           0.2807723624408558,
           0.02431596643145384,
           0.6454722959071678,
           0.17711067940704894,
           0.9404585843529143,
           0.9539285770025874,
           0.9148643902204485,
           0.3701587002554444,
           0.015456616528867428,
           0.9283185625877254,
           0.42818414831731433,
           0.9666548190436696,
           0.9636199770892528,
           0.8530094554673601,
           0.2944488920695857,
           0.38509772860192526,
           0.8511366715168569,
           0.31692200515627766,
           0.1694927466860925,
           0.5568012624583502,
           0.936154774160781,
           0.696029796674973,
           0.570061170089365,
           0.09717649377076854,
           0.6150072266991697,
           0.9900538501042633,
           0.14008401523652403,
           0.5183296523637367,
           0.8773730719279554,
           0.7407686177542044,
           0.697015740995268,
           0.7024840839871093,
           0.35949115121975517,
           0.29359184426449336,
           0.8093611554785136,
           0.8101133946791808,
           0.8670723185801037,
           0.9132405525564713,
           0.5113423988609378,
           0.5015162946871996,
           0.7982951789667752,
           0.6499639307777652,
           0.7019668772577033,
           0.795792669436101,
           0.8900053418175663,
           0.3379951568515358,
           0.375582952639944,
           0.093981939840869,
           0.578280140996174,
           0.035942273796742086,
           0.46559801813246016,
           0.5426446347075766,
           0.2865412521282844,
           0.5908332605690108,
           0.03050024993904943,
           0.03734818874921442,
           0.8226005606596583,
           0.3601906414112629,
           0.12706051265188478,
           0.5222432600548044,
           0.7699935530986108,
           0.21582102749684318,
           0.6228904758190003,
           0.085347464993768
          ],
          "colorscale": [
           [
            0,
            "#440154"
           ],
           [
            0.1111111111111111,
            "#482878"
           ],
           [
            0.2222222222222222,
            "#3e4989"
           ],
           [
            0.3333333333333333,
            "#31688e"
           ],
           [
            0.4444444444444444,
            "#26828e"
           ],
           [
            0.5555555555555556,
            "#1f9e89"
           ],
           [
            0.6666666666666666,
            "#35b779"
           ],
           [
            0.7777777777777778,
            "#6ece58"
           ],
           [
            0.8888888888888888,
            "#b5de2b"
           ],
           [
            1,
            "#fde725"
           ]
          ],
          "opacity": 0.8,
          "size": 8
         },
         "mode": "markers",
         "type": "scatter3d",
         "x": [
          0.3745401188473625,
          0.9507143064099162,
          0.7319939418114051,
          0.5986584841970366,
          0.15601864044243652,
          0.15599452033620265,
          0.05808361216819946,
          0.8661761457749352,
          0.6011150117432088,
          0.7080725777960455,
          0.020584494295802447,
          0.9699098521619943,
          0.8324426408004217,
          0.21233911067827616,
          0.18182496720710062,
          0.18340450985343382,
          0.3042422429595377,
          0.5247564316322378,
          0.43194501864211576,
          0.2912291401980419,
          0.6118528947223795,
          0.13949386065204183,
          0.29214464853521815,
          0.3663618432936917,
          0.45606998421703593,
          0.7851759613930136,
          0.19967378215835974,
          0.5142344384136116,
          0.5924145688620425,
          0.046450412719997725,
          0.6075448519014384,
          0.17052412368729153,
          0.06505159298527952,
          0.9488855372533332,
          0.9656320330745594,
          0.8083973481164611,
          0.3046137691733707,
          0.09767211400638387,
          0.6842330265121569,
          0.4401524937396013,
          0.12203823484477883,
          0.4951769101112702,
          0.034388521115218396,
          0.9093204020787821,
          0.2587799816000169,
          0.662522284353982,
          0.31171107608941095,
          0.5200680211778108,
          0.5467102793432796,
          0.18485445552552704,
          0.9695846277645586,
          0.7751328233611146,
          0.9394989415641891,
          0.8948273504276488,
          0.5978999788110851,
          0.9218742350231168,
          0.0884925020519195,
          0.1959828624191452,
          0.045227288910538066,
          0.32533033076326434,
          0.388677289689482,
          0.2713490317738959,
          0.8287375091519293,
          0.3567533266935893,
          0.28093450968738076,
          0.5426960831582485,
          0.14092422497476265,
          0.8021969807540397,
          0.07455064367977082,
          0.9868869366005173,
          0.7722447692966574,
          0.1987156815341724,
          0.005522117123602399,
          0.8154614284548342,
          0.7068573438476171,
          0.7290071680409873,
          0.7712703466859457,
          0.07404465173409036,
          0.3584657285442726,
          0.11586905952512971,
          0.8631034258755935,
          0.6232981268275579,
          0.3308980248526492,
          0.06355835028602363,
          0.3109823217156622,
          0.32518332202674705,
          0.7296061783380641,
          0.6375574713552131,
          0.8872127425763265,
          0.4722149251619493,
          0.1195942459383017,
          0.713244787222995,
          0.7607850486168974,
          0.5612771975694962,
          0.770967179954561,
          0.49379559636439074,
          0.5227328293819941,
          0.42754101835854963,
          0.02541912674409519,
          0.10789142699330445
         ],
         "y": [
          0.03142918568673425,
          0.6364104112637804,
          0.3143559810763267,
          0.5085706911647028,
          0.907566473926093,
          0.24929222914887494,
          0.41038292303562973,
          0.7555511385430487,
          0.22879816549162246,
          0.07697990982879299,
          0.289751452913768,
          0.16122128725400442,
          0.9296976523425731,
          0.808120379564417,
          0.6334037565104235,
          0.8714605901877177,
          0.8036720768991145,
          0.18657005888603584,
          0.8925589984899778,
          0.5393422419156507,
          0.8074401551640625,
          0.8960912999234932,
          0.3180034749718639,
          0.11005192452767676,
          0.22793516254194168,
          0.4271077886262563,
          0.8180147659224931,
          0.8607305832563434,
          0.006952130531190703,
          0.5107473025775657,
          0.417411003148779,
          0.22210781047073025,
          0.1198653673336828,
          0.33761517140362796,
          0.9429097039125192,
          0.32320293202075523,
          0.5187906217433661,
          0.7030189588951778,
          0.363629602379294,
          0.9717820827209607,
          0.9624472949421112,
          0.25178229582536416,
          0.49724850589238545,
          0.30087830981676966,
          0.2848404943774676,
          0.036886947354532795,
          0.6095643339798968,
          0.5026790232288615,
          0.05147875124998935,
          0.27864646423661144,
          0.9082658859666537,
          0.23956189066697242,
          0.1448948720912231,
          0.489452760277563,
          0.9856504541106007,
          0.2420552715115004,
          0.6721355474058786,
          0.7616196153287176,
          0.23763754399239967,
          0.7282163486118596,
          0.3677831327192532,
          0.6323058305935795,
          0.6335297107608947,
          0.5357746840747585,
          0.0902897700544083,
          0.835302495589238,
          0.32078006497173583,
          0.18651851039985423,
          0.040775141554763916,
          0.5908929431882418,
          0.6775643618422824,
          0.016587828927856152,
          0.512093058299281,
          0.22649577519793795,
          0.6451727904094499,
          0.17436642900499144,
          0.690937738102466,
          0.3867353463005374,
          0.9367299887367345,
          0.13752094414599325,
          0.3410663510502585,
          0.11347352124058907,
          0.9246936182785628,
          0.877339353380981,
          0.2579416277151556,
          0.659984046034179,
          0.8172222002012158,
          0.5552008115994623,
          0.5296505783560065,
          0.24185229090045168,
          0.09310276780589921,
          0.8972157579533268,
          0.9004180571633305,
          0.6331014572732679,
          0.3390297910487007,
          0.3492095746126609,
          0.7259556788702394,
          0.8971102599525771,
          0.8870864242651173,
          0.7798755458576239
         ],
         "z": [
          0.6420316461542878,
          0.08413996499504883,
          0.16162871409461377,
          0.8985541885270792,
          0.6064290596595899,
          0.009197051616629648,
          0.1014715428660321,
          0.6635017691080558,
          0.005061583846218687,
          0.16080805141749865,
          0.5487337893665861,
          0.6918951976926933,
          0.6519612595026005,
          0.22426930946055978,
          0.7121792213475359,
          0.23724908749680007,
          0.3253996981592677,
          0.7464914051180241,
          0.6496328990472147,
          0.8492234104941779,
          0.6576128923003434,
          0.5683086033354716,
          0.09367476782809248,
          0.3677158030594335,
          0.26520236768172545,
          0.24398964337908358,
          0.9730105547524456,
          0.3930977246667604,
          0.8920465551771133,
          0.6311386259972629,
          0.7948113035416484,
          0.5026370931051921,
          0.5769038846263591,
          0.4925176938188639,
          0.1952429877980445,
          0.7224521152615053,
          0.2807723624408558,
          0.02431596643145384,
          0.6454722959071678,
          0.17711067940704894,
          0.9404585843529143,
          0.9539285770025874,
          0.9148643902204485,
          0.3701587002554444,
          0.015456616528867428,
          0.9283185625877254,
          0.42818414831731433,
          0.9666548190436696,
          0.9636199770892528,
          0.8530094554673601,
          0.2944488920695857,
          0.38509772860192526,
          0.8511366715168569,
          0.31692200515627766,
          0.1694927466860925,
          0.5568012624583502,
          0.936154774160781,
          0.696029796674973,
          0.570061170089365,
          0.09717649377076854,
          0.6150072266991697,
          0.9900538501042633,
          0.14008401523652403,
          0.5183296523637367,
          0.8773730719279554,
          0.7407686177542044,
          0.697015740995268,
          0.7024840839871093,
          0.35949115121975517,
          0.29359184426449336,
          0.8093611554785136,
          0.8101133946791808,
          0.8670723185801037,
          0.9132405525564713,
          0.5113423988609378,
          0.5015162946871996,
          0.7982951789667752,
          0.6499639307777652,
          0.7019668772577033,
          0.795792669436101,
          0.8900053418175663,
          0.3379951568515358,
          0.375582952639944,
          0.093981939840869,
          0.578280140996174,
          0.035942273796742086,
          0.46559801813246016,
          0.5426446347075766,
          0.2865412521282844,
          0.5908332605690108,
          0.03050024993904943,
          0.03734818874921442,
          0.8226005606596583,
          0.3601906414112629,
          0.12706051265188478,
          0.5222432600548044,
          0.7699935530986108,
          0.21582102749684318,
          0.6228904758190003,
          0.085347464993768
         ]
        }
       ],
       "layout": {
        "autosize": true,
        "margin": {
         "b": 0,
         "l": 0,
         "r": 0,
         "t": 30
        },
        "scene": {
         "aspectmode": "auto",
         "aspectratio": {
          "x": 0.99967715689507,
          "y": 0.9969609039942264,
          "z": 1.0033722920914598
         },
         "xaxis": {
          "title": {
           "text": "X-Axis"
          },
          "type": "linear"
         },
         "yaxis": {
          "title": {
           "text": "Y-Axis"
          },
          "type": "linear"
         },
         "zaxis": {
          "title": {
           "text": "Z-Axis"
          },
          "type": "linear"
         }
        },
        "template": {
         "data": {
          "bar": [
           {
            "error_x": {
             "color": "#2a3f5f"
            },
            "error_y": {
             "color": "#2a3f5f"
            },
            "marker": {
             "line": {
              "color": "#E5ECF6",
              "width": 0.5
             },
             "pattern": {
              "fillmode": "overlay",
              "size": 10,
              "solidity": 0.2
             }
            },
            "type": "bar"
           }
          ],
          "barpolar": [
           {
            "marker": {
             "line": {
              "color": "#E5ECF6",
              "width": 0.5
             },
             "pattern": {
              "fillmode": "overlay",
              "size": 10,
              "solidity": 0.2
             }
            },
            "type": "barpolar"
           }
          ],
          "carpet": [
           {
            "aaxis": {
             "endlinecolor": "#2a3f5f",
             "gridcolor": "white",
             "linecolor": "white",
             "minorgridcolor": "white",
             "startlinecolor": "#2a3f5f"
            },
            "baxis": {
             "endlinecolor": "#2a3f5f",
             "gridcolor": "white",
             "linecolor": "white",
             "minorgridcolor": "white",
             "startlinecolor": "#2a3f5f"
            },
            "type": "carpet"
           }
          ],
          "choropleth": [
           {
            "colorbar": {
             "outlinewidth": 0,
             "ticks": ""
            },
            "type": "choropleth"
           }
          ],
          "contour": [
           {
            "colorbar": {
             "outlinewidth": 0,
             "ticks": ""
            },
            "colorscale": [
             [
              0,
              "#0d0887"
             ],
             [
              0.1111111111111111,
              "#46039f"
             ],
             [
              0.2222222222222222,
              "#7201a8"
             ],
             [
              0.3333333333333333,
              "#9c179e"
             ],
             [
              0.4444444444444444,
              "#bd3786"
             ],
             [
              0.5555555555555556,
              "#d8576b"
             ],
             [
              0.6666666666666666,
              "#ed7953"
             ],
             [
              0.7777777777777778,
              "#fb9f3a"
             ],
             [
              0.8888888888888888,
              "#fdca26"
             ],
             [
              1,
              "#f0f921"
             ]
            ],
            "type": "contour"
           }
          ],
          "contourcarpet": [
           {
            "colorbar": {
             "outlinewidth": 0,
             "ticks": ""
            },
            "type": "contourcarpet"
           }
          ],
          "heatmap": [
           {
            "colorbar": {
             "outlinewidth": 0,
             "ticks": ""
            },
            "colorscale": [
             [
              0,
              "#0d0887"
             ],
             [
              0.1111111111111111,
              "#46039f"
             ],
             [
              0.2222222222222222,
              "#7201a8"
             ],
             [
              0.3333333333333333,
              "#9c179e"
             ],
             [
              0.4444444444444444,
              "#bd3786"
             ],
             [
              0.5555555555555556,
              "#d8576b"
             ],
             [
              0.6666666666666666,
              "#ed7953"
             ],
             [
              0.7777777777777778,
              "#fb9f3a"
             ],
             [
              0.8888888888888888,
              "#fdca26"
             ],
             [
              1,
              "#f0f921"
             ]
            ],
            "type": "heatmap"
           }
          ],
          "heatmapgl": [
           {
            "colorbar": {
             "outlinewidth": 0,
             "ticks": ""
            },
            "colorscale": [
             [
              0,
              "#0d0887"
             ],
             [
              0.1111111111111111,
              "#46039f"
             ],
             [
              0.2222222222222222,
              "#7201a8"
             ],
             [
              0.3333333333333333,
              "#9c179e"
             ],
             [
              0.4444444444444444,
              "#bd3786"
             ],
             [
              0.5555555555555556,
              "#d8576b"
             ],
             [
              0.6666666666666666,
              "#ed7953"
             ],
             [
              0.7777777777777778,
              "#fb9f3a"
             ],
             [
              0.8888888888888888,
              "#fdca26"
             ],
             [
              1,
              "#f0f921"
             ]
            ],
            "type": "heatmapgl"
           }
          ],
          "histogram": [
           {
            "marker": {
             "pattern": {
              "fillmode": "overlay",
              "size": 10,
              "solidity": 0.2
             }
            },
            "type": "histogram"
           }
          ],
          "histogram2d": [
           {
            "colorbar": {
             "outlinewidth": 0,
             "ticks": ""
            },
            "colorscale": [
             [
              0,
              "#0d0887"
             ],
             [
              0.1111111111111111,
              "#46039f"
             ],
             [
              0.2222222222222222,
              "#7201a8"
             ],
             [
              0.3333333333333333,
              "#9c179e"
             ],
             [
              0.4444444444444444,
              "#bd3786"
             ],
             [
              0.5555555555555556,
              "#d8576b"
             ],
             [
              0.6666666666666666,
              "#ed7953"
             ],
             [
              0.7777777777777778,
              "#fb9f3a"
             ],
             [
              0.8888888888888888,
              "#fdca26"
             ],
             [
              1,
              "#f0f921"
             ]
            ],
            "type": "histogram2d"
           }
          ],
          "histogram2dcontour": [
           {
            "colorbar": {
             "outlinewidth": 0,
             "ticks": ""
            },
            "colorscale": [
             [
              0,
              "#0d0887"
             ],
             [
              0.1111111111111111,
              "#46039f"
             ],
             [
              0.2222222222222222,
              "#7201a8"
             ],
             [
              0.3333333333333333,
              "#9c179e"
             ],
             [
              0.4444444444444444,
              "#bd3786"
             ],
             [
              0.5555555555555556,
              "#d8576b"
             ],
             [
              0.6666666666666666,
              "#ed7953"
             ],
             [
              0.7777777777777778,
              "#fb9f3a"
             ],
             [
              0.8888888888888888,
              "#fdca26"
             ],
             [
              1,
              "#f0f921"
             ]
            ],
            "type": "histogram2dcontour"
           }
          ],
          "mesh3d": [
           {
            "colorbar": {
             "outlinewidth": 0,
             "ticks": ""
            },
            "type": "mesh3d"
           }
          ],
          "parcoords": [
           {
            "line": {
             "colorbar": {
              "outlinewidth": 0,
              "ticks": ""
             }
            },
            "type": "parcoords"
           }
          ],
          "pie": [
           {
            "automargin": true,
            "type": "pie"
           }
          ],
          "scatter": [
           {
            "fillpattern": {
             "fillmode": "overlay",
             "size": 10,
             "solidity": 0.2
            },
            "type": "scatter"
           }
          ],
          "scatter3d": [
           {
            "line": {
             "colorbar": {
              "outlinewidth": 0,
              "ticks": ""
             }
            },
            "marker": {
             "colorbar": {
              "outlinewidth": 0,
              "ticks": ""
             }
            },
            "type": "scatter3d"
           }
          ],
          "scattercarpet": [
           {
            "marker": {
             "colorbar": {
              "outlinewidth": 0,
              "ticks": ""
             }
            },
            "type": "scattercarpet"
           }
          ],
          "scattergeo": [
           {
            "marker": {
             "colorbar": {
              "outlinewidth": 0,
              "ticks": ""
             }
            },
            "type": "scattergeo"
           }
          ],
          "scattergl": [
           {
            "marker": {
             "colorbar": {
              "outlinewidth": 0,
              "ticks": ""
             }
            },
            "type": "scattergl"
           }
          ],
          "scattermapbox": [
           {
            "marker": {
             "colorbar": {
              "outlinewidth": 0,
              "ticks": ""
             }
            },
            "type": "scattermapbox"
           }
          ],
          "scatterpolar": [
           {
            "marker": {
             "colorbar": {
              "outlinewidth": 0,
              "ticks": ""
             }
            },
            "type": "scatterpolar"
           }
          ],
          "scatterpolargl": [
           {
            "marker": {
             "colorbar": {
              "outlinewidth": 0,
              "ticks": ""
             }
            },
            "type": "scatterpolargl"
           }
          ],
          "scatterternary": [
           {
            "marker": {
             "colorbar": {
              "outlinewidth": 0,
              "ticks": ""
             }
            },
            "type": "scatterternary"
           }
          ],
          "surface": [
           {
            "colorbar": {
             "outlinewidth": 0,
             "ticks": ""
            },
            "colorscale": [
             [
              0,
              "#0d0887"
             ],
             [
              0.1111111111111111,
              "#46039f"
             ],
             [
              0.2222222222222222,
              "#7201a8"
             ],
             [
              0.3333333333333333,
              "#9c179e"
             ],
             [
              0.4444444444444444,
              "#bd3786"
             ],
             [
              0.5555555555555556,
              "#d8576b"
             ],
             [
              0.6666666666666666,
              "#ed7953"
             ],
             [
              0.7777777777777778,
              "#fb9f3a"
             ],
             [
              0.8888888888888888,
              "#fdca26"
             ],
             [
              1,
              "#f0f921"
             ]
            ],
            "type": "surface"
           }
          ],
          "table": [
           {
            "cells": {
             "fill": {
              "color": "#EBF0F8"
             },
             "line": {
              "color": "white"
             }
            },
            "header": {
             "fill": {
              "color": "#C8D4E3"
             },
             "line": {
              "color": "white"
             }
            },
            "type": "table"
           }
          ]
         },
         "layout": {
          "annotationdefaults": {
           "arrowcolor": "#2a3f5f",
           "arrowhead": 0,
           "arrowwidth": 1
          },
          "autotypenumbers": "strict",
          "coloraxis": {
           "colorbar": {
            "outlinewidth": 0,
            "ticks": ""
           }
          },
          "colorscale": {
           "diverging": [
            [
             0,
             "#8e0152"
            ],
            [
             0.1,
             "#c51b7d"
            ],
            [
             0.2,
             "#de77ae"
            ],
            [
             0.3,
             "#f1b6da"
            ],
            [
             0.4,
             "#fde0ef"
            ],
            [
             0.5,
             "#f7f7f7"
            ],
            [
             0.6,
             "#e6f5d0"
            ],
            [
             0.7,
             "#b8e186"
            ],
            [
             0.8,
             "#7fbc41"
            ],
            [
             0.9,
             "#4d9221"
            ],
            [
             1,
             "#276419"
            ]
           ],
           "sequential": [
            [
             0,
             "#0d0887"
            ],
            [
             0.1111111111111111,
             "#46039f"
            ],
            [
             0.2222222222222222,
             "#7201a8"
            ],
            [
             0.3333333333333333,
             "#9c179e"
            ],
            [
             0.4444444444444444,
             "#bd3786"
            ],
            [
             0.5555555555555556,
             "#d8576b"
            ],
            [
             0.6666666666666666,
             "#ed7953"
            ],
            [
             0.7777777777777778,
             "#fb9f3a"
            ],
            [
             0.8888888888888888,
             "#fdca26"
            ],
            [
             1,
             "#f0f921"
            ]
           ],
           "sequentialminus": [
            [
             0,
             "#0d0887"
            ],
            [
             0.1111111111111111,
             "#46039f"
            ],
            [
             0.2222222222222222,
             "#7201a8"
            ],
            [
             0.3333333333333333,
             "#9c179e"
            ],
            [
             0.4444444444444444,
             "#bd3786"
            ],
            [
             0.5555555555555556,
             "#d8576b"
            ],
            [
             0.6666666666666666,
             "#ed7953"
            ],
            [
             0.7777777777777778,
             "#fb9f3a"
            ],
            [
             0.8888888888888888,
             "#fdca26"
            ],
            [
             1,
             "#f0f921"
            ]
           ]
          },
          "colorway": [
           "#636efa",
           "#EF553B",
           "#00cc96",
           "#ab63fa",
           "#FFA15A",
           "#19d3f3",
           "#FF6692",
           "#B6E880",
           "#FF97FF",
           "#FECB52"
          ],
          "font": {
           "color": "#2a3f5f"
          },
          "geo": {
           "bgcolor": "white",
           "lakecolor": "white",
           "landcolor": "#E5ECF6",
           "showlakes": true,
           "showland": true,
           "subunitcolor": "white"
          },
          "hoverlabel": {
           "align": "left"
          },
          "hovermode": "closest",
          "mapbox": {
           "style": "light"
          },
          "paper_bgcolor": "white",
          "plot_bgcolor": "#E5ECF6",
          "polar": {
           "angularaxis": {
            "gridcolor": "white",
            "linecolor": "white",
            "ticks": ""
           },
           "bgcolor": "#E5ECF6",
           "radialaxis": {
            "gridcolor": "white",
            "linecolor": "white",
            "ticks": ""
           }
          },
          "scene": {
           "xaxis": {
            "backgroundcolor": "#E5ECF6",
            "gridcolor": "white",
            "gridwidth": 2,
            "linecolor": "white",
            "showbackground": true,
            "ticks": "",
            "zerolinecolor": "white"
           },
           "yaxis": {
            "backgroundcolor": "#E5ECF6",
            "gridcolor": "white",
            "gridwidth": 2,
            "linecolor": "white",
            "showbackground": true,
            "ticks": "",
            "zerolinecolor": "white"
           },
           "zaxis": {
            "backgroundcolor": "#E5ECF6",
            "gridcolor": "white",
            "gridwidth": 2,
            "linecolor": "white",
            "showbackground": true,
            "ticks": "",
            "zerolinecolor": "white"
           }
          },
          "shapedefaults": {
           "line": {
            "color": "#2a3f5f"
           }
          },
          "ternary": {
           "aaxis": {
            "gridcolor": "white",
            "linecolor": "white",
            "ticks": ""
           },
           "baxis": {
            "gridcolor": "white",
            "linecolor": "white",
            "ticks": ""
           },
           "bgcolor": "#E5ECF6",
           "caxis": {
            "gridcolor": "white",
            "linecolor": "white",
            "ticks": ""
           }
          },
          "title": {
           "x": 0.05
          },
          "xaxis": {
           "automargin": true,
           "gridcolor": "white",
           "linecolor": "white",
           "ticks": "",
           "title": {
            "standoff": 15
           },
           "zerolinecolor": "white",
           "zerolinewidth": 2
          },
          "yaxis": {
           "automargin": true,
           "gridcolor": "white",
           "linecolor": "white",
           "ticks": "",
           "title": {
            "standoff": 15
           },
           "zerolinecolor": "white",
           "zerolinewidth": 2
          }
         }
        },
        "title": {
         "text": "3D Scatter Plot Example"
        }
       }
      },
      "image/png": "[encoded data removed]",
      "text/html": [
       "<div>                            <div id=\"05a01bc3-e43c-443b-9a06-1cfad6091e29\" class=\"plotly-graph-div\" style=\"height:525px; width:100%;\"></div>            <script type=\"text/javascript\">                require([\"plotly\"], function(Plotly) {                    window.PLOTLYENV=window.PLOTLYENV || {};                                    if (document.getElementById(\"05a01bc3-e43c-443b-9a06-1cfad6091e29\")) {                    Plotly.newPlot(                        \"05a01bc3-e43c-443b-9a06-1cfad6091e29\",                        [{\"marker\":{\"color\":[0.6420316461542878,0.08413996499504883,0.16162871409461377,0.8985541885270792,0.6064290596595899,0.009197051616629648,0.1014715428660321,0.6635017691080558,0.005061583846218687,0.16080805141749865,0.5487337893665861,0.6918951976926933,0.6519612595026005,0.22426930946055978,0.7121792213475359,0.23724908749680007,0.3253996981592677,0.7464914051180241,0.6496328990472147,0.8492234104941779,0.6576128923003434,0.5683086033354716,0.09367476782809248,0.3677158030594335,0.26520236768172545,0.24398964337908358,0.9730105547524456,0.3930977246667604,0.8920465551771133,0.6311386259972629,0.7948113035416484,0.5026370931051921,0.5769038846263591,0.4925176938188639,0.1952429877980445,0.7224521152615053,0.2807723624408558,0.02431596643145384,0.6454722959071678,0.17711067940704894,0.9404585843529143,0.9539285770025874,0.9148643902204485,0.3701587002554444,0.015456616528867428,0.9283185625877254,0.42818414831731433,0.9666548190436696,0.9636199770892528,0.8530094554673601,0.2944488920695857,0.38509772860192526,0.8511366715168569,0.31692200515627766,0.1694927466860925,0.5568012624583502,0.936154774160781,0.696029796674973,0.570061170089365,0.09717649377076854,0.6150072266991697,0.9900538501042633,0.14008401523652403,0.5183296523637367,0.8773730719279554,0.7407686177542044,0.697015740995268,0.7024840839871093,0.35949115121975517,0.29359184426449336,0.8093611554785136,0.8101133946791808,0.8670723185801037,0.9132405525564713,0.5113423988609378,0.5015162946871996,0.7982951789667752,0.6499639307777652,0.7019668772577033,0.795792669436101,0.8900053418175663,0.3379951568515358,0.375582952639944,0.093981939840869,0.578280140996174,0.035942273796742086,0.46559801813246016,0.5426446347075766,0.2865412521282844,0.5908332605690108,0.03050024993904943,0.03734818874921442,0.8226005606596583,0.3601906414112629,0.12706051265188478,0.5222432600548044,0.7699935530986108,0.21582102749684318,0.6228904758190003,0.085347464993768],\"colorscale\":[[0.0,\"#440154\"],[0.1111111111111111,\"#482878\"],[0.2222222222222222,\"#3e4989\"],[0.3333333333333333,\"#31688e\"],[0.4444444444444444,\"#26828e\"],[0.5555555555555556,\"#1f9e89\"],[0.6666666666666666,\"#35b779\"],[0.7777777777777778,\"#6ece58\"],[0.8888888888888888,\"#b5de2b\"],[1.0,\"#fde725\"]],\"opacity\":0.8,\"size\":8},\"mode\":\"markers\",\"x\":[0.3745401188473625,0.9507143064099162,0.7319939418114051,0.5986584841970366,0.15601864044243652,0.15599452033620265,0.05808361216819946,0.8661761457749352,0.6011150117432088,0.7080725777960455,0.020584494295802447,0.9699098521619943,0.8324426408004217,0.21233911067827616,0.18182496720710062,0.18340450985343382,0.3042422429595377,0.5247564316322378,0.43194501864211576,0.2912291401980419,0.6118528947223795,0.13949386065204183,0.29214464853521815,0.3663618432936917,0.45606998421703593,0.7851759613930136,0.19967378215835974,0.5142344384136116,0.5924145688620425,0.046450412719997725,0.6075448519014384,0.17052412368729153,0.06505159298527952,0.9488855372533332,0.9656320330745594,0.8083973481164611,0.3046137691733707,0.09767211400638387,0.6842330265121569,0.4401524937396013,0.12203823484477883,0.4951769101112702,0.034388521115218396,0.9093204020787821,0.2587799816000169,0.662522284353982,0.31171107608941095,0.5200680211778108,0.5467102793432796,0.18485445552552704,0.9695846277645586,0.7751328233611146,0.9394989415641891,0.8948273504276488,0.5978999788110851,0.9218742350231168,0.0884925020519195,0.1959828624191452,0.045227288910538066,0.32533033076326434,0.388677289689482,0.2713490317738959,0.8287375091519293,0.3567533266935893,0.28093450968738076,0.5426960831582485,0.14092422497476265,0.8021969807540397,0.07455064367977082,0.9868869366005173,0.7722447692966574,0.1987156815341724,0.005522117123602399,0.8154614284548342,0.7068573438476171,0.7290071680409873,0.7712703466859457,0.07404465173409036,0.3584657285442726,0.11586905952512971,0.8631034258755935,0.6232981268275579,0.3308980248526492,0.06355835028602363,0.3109823217156622,0.32518332202674705,0.7296061783380641,0.6375574713552131,0.8872127425763265,0.4722149251619493,0.1195942459383017,0.713244787222995,0.7607850486168974,0.5612771975694962,0.770967179954561,0.49379559636439074,0.5227328293819941,0.42754101835854963,0.02541912674409519,0.10789142699330445],\"y\":[0.03142918568673425,0.6364104112637804,0.3143559810763267,0.5085706911647028,0.907566473926093,0.24929222914887494,0.41038292303562973,0.7555511385430487,0.22879816549162246,0.07697990982879299,0.289751452913768,0.16122128725400442,0.9296976523425731,0.808120379564417,0.6334037565104235,0.8714605901877177,0.8036720768991145,0.18657005888603584,0.8925589984899778,0.5393422419156507,0.8074401551640625,0.8960912999234932,0.3180034749718639,0.11005192452767676,0.22793516254194168,0.4271077886262563,0.8180147659224931,0.8607305832563434,0.006952130531190703,0.5107473025775657,0.417411003148779,0.22210781047073025,0.1198653673336828,0.33761517140362796,0.9429097039125192,0.32320293202075523,0.5187906217433661,0.7030189588951778,0.363629602379294,0.9717820827209607,0.9624472949421112,0.25178229582536416,0.49724850589238545,0.30087830981676966,0.2848404943774676,0.036886947354532795,0.6095643339798968,0.5026790232288615,0.05147875124998935,0.27864646423661144,0.9082658859666537,0.23956189066697242,0.1448948720912231,0.489452760277563,0.9856504541106007,0.2420552715115004,0.6721355474058786,0.7616196153287176,0.23763754399239967,0.7282163486118596,0.3677831327192532,0.6323058305935795,0.6335297107608947,0.5357746840747585,0.0902897700544083,0.835302495589238,0.32078006497173583,0.18651851039985423,0.040775141554763916,0.5908929431882418,0.6775643618422824,0.016587828927856152,0.512093058299281,0.22649577519793795,0.6451727904094499,0.17436642900499144,0.690937738102466,0.3867353463005374,0.9367299887367345,0.13752094414599325,0.3410663510502585,0.11347352124058907,0.9246936182785628,0.877339353380981,0.2579416277151556,0.659984046034179,0.8172222002012158,0.5552008115994623,0.5296505783560065,0.24185229090045168,0.09310276780589921,0.8972157579533268,0.9004180571633305,0.6331014572732679,0.3390297910487007,0.3492095746126609,0.7259556788702394,0.8971102599525771,0.8870864242651173,0.7798755458576239],\"z\":[0.6420316461542878,0.08413996499504883,0.16162871409461377,0.8985541885270792,0.6064290596595899,0.009197051616629648,0.1014715428660321,0.6635017691080558,0.005061583846218687,0.16080805141749865,0.5487337893665861,0.6918951976926933,0.6519612595026005,0.22426930946055978,0.7121792213475359,0.23724908749680007,0.3253996981592677,0.7464914051180241,0.6496328990472147,0.8492234104941779,0.6576128923003434,0.5683086033354716,0.09367476782809248,0.3677158030594335,0.26520236768172545,0.24398964337908358,0.9730105547524456,0.3930977246667604,0.8920465551771133,0.6311386259972629,0.7948113035416484,0.5026370931051921,0.5769038846263591,0.4925176938188639,0.1952429877980445,0.7224521152615053,0.2807723624408558,0.02431596643145384,0.6454722959071678,0.17711067940704894,0.9404585843529143,0.9539285770025874,0.9148643902204485,0.3701587002554444,0.015456616528867428,0.9283185625877254,0.42818414831731433,0.9666548190436696,0.9636199770892528,0.8530094554673601,0.2944488920695857,0.38509772860192526,0.8511366715168569,0.31692200515627766,0.1694927466860925,0.5568012624583502,0.936154774160781,0.696029796674973,0.570061170089365,0.09717649377076854,0.6150072266991697,0.9900538501042633,0.14008401523652403,0.5183296523637367,0.8773730719279554,0.7407686177542044,0.697015740995268,0.7024840839871093,0.35949115121975517,0.29359184426449336,0.8093611554785136,0.8101133946791808,0.8670723185801037,0.9132405525564713,0.5113423988609378,0.5015162946871996,0.7982951789667752,0.6499639307777652,0.7019668772577033,0.795792669436101,0.8900053418175663,0.3379951568515358,0.375582952639944,0.093981939840869,0.578280140996174,0.035942273796742086,0.46559801813246016,0.5426446347075766,0.2865412521282844,0.5908332605690108,0.03050024993904943,0.03734818874921442,0.8226005606596583,0.3601906414112629,0.12706051265188478,0.5222432600548044,0.7699935530986108,0.21582102749684318,0.6228904758190003,0.085347464993768],\"type\":\"scatter3d\"}],                        {\"template\":{\"data\":{\"histogram2dcontour\":[{\"type\":\"histogram2dcontour\",\"colorbar\":{\"outlinewidth\":0,\"ticks\":\"\"},\"colorscale\":[[0.0,\"#0d0887\"],[0.1111111111111111,\"#46039f\"],[0.2222222222222222,\"#7201a8\"],[0.3333333333333333,\"#9c179e\"],[0.4444444444444444,\"#bd3786\"],[0.5555555555555556,\"#d8576b\"],[0.6666666666666666,\"#ed7953\"],[0.7777777777777778,\"#fb9f3a\"],[0.8888888888888888,\"#fdca26\"],[1.0,\"#f0f921\"]]}],\"choropleth\":[{\"type\":\"choropleth\",\"colorbar\":{\"outlinewidth\":0,\"ticks\":\"\"}}],\"histogram2d\":[{\"type\":\"histogram2d\",\"colorbar\":{\"outlinewidth\":0,\"ticks\":\"\"},\"colorscale\":[[0.0,\"#0d0887\"],[0.1111111111111111,\"#46039f\"],[0.2222222222222222,\"#7201a8\"],[0.3333333333333333,\"#9c179e\"],[0.4444444444444444,\"#bd3786\"],[0.5555555555555556,\"#d8576b\"],[0.6666666666666666,\"#ed7953\"],[0.7777777777777778,\"#fb9f3a\"],[0.8888888888888888,\"#fdca26\"],[1.0,\"#f0f921\"]]}],\"heatmap\":[{\"type\":\"heatmap\",\"colorbar\":{\"outlinewidth\":0,\"ticks\":\"\"},\"colorscale\":[[0.0,\"#0d0887\"],[0.1111111111111111,\"#46039f\"],[0.2222222222222222,\"#7201a8\"],[0.3333333333333333,\"#9c179e\"],[0.4444444444444444,\"#bd3786\"],[0.5555555555555556,\"#d8576b\"],[0.6666666666666666,\"#ed7953\"],[0.7777777777777778,\"#fb9f3a\"],[0.8888888888888888,\"#fdca26\"],[1.0,\"#f0f921\"]]}],\"heatmapgl\":[{\"type\":\"heatmapgl\",\"colorbar\":{\"outlinewidth\":0,\"ticks\":\"\"},\"colorscale\":[[0.0,\"#0d0887\"],[0.1111111111111111,\"#46039f\"],[0.2222222222222222,\"#7201a8\"],[0.3333333333333333,\"#9c179e\"],[0.4444444444444444,\"#bd3786\"],[0.5555555555555556,\"#d8576b\"],[0.6666666666666666,\"#ed7953\"],[0.7777777777777778,\"#fb9f3a\"],[0.8888888888888888,\"#fdca26\"],[1.0,\"#f0f921\"]]}],\"contourcarpet\":[{\"type\":\"contourcarpet\",\"colorbar\":{\"outlinewidth\":0,\"ticks\":\"\"}}],\"contour\":[{\"type\":\"contour\",\"colorbar\":{\"outlinewidth\":0,\"ticks\":\"\"},\"colorscale\":[[0.0,\"#0d0887\"],[0.1111111111111111,\"#46039f\"],[0.2222222222222222,\"#7201a8\"],[0.3333333333333333,\"#9c179e\"],[0.4444444444444444,\"#bd3786\"],[0.5555555555555556,\"#d8576b\"],[0.6666666666666666,\"#ed7953\"],[0.7777777777777778,\"#fb9f3a\"],[0.8888888888888888,\"#fdca26\"],[1.0,\"#f0f921\"]]}],\"surface\":[{\"type\":\"surface\",\"colorbar\":{\"outlinewidth\":0,\"ticks\":\"\"},\"colorscale\":[[0.0,\"#0d0887\"],[0.1111111111111111,\"#46039f\"],[0.2222222222222222,\"#7201a8\"],[0.3333333333333333,\"#9c179e\"],[0.4444444444444444,\"#bd3786\"],[0.5555555555555556,\"#d8576b\"],[0.6666666666666666,\"#ed7953\"],[0.7777777777777778,\"#fb9f3a\"],[0.8888888888888888,\"#fdca26\"],[1.0,\"#f0f921\"]]}],\"mesh3d\":[{\"type\":\"mesh3d\",\"colorbar\":{\"outlinewidth\":0,\"ticks\":\"\"}}],\"scatter\":[{\"fillpattern\":{\"fillmode\":\"overlay\",\"size\":10,\"solidity\":0.2},\"type\":\"scatter\"}],\"parcoords\":[{\"type\":\"parcoords\",\"line\":{\"colorbar\":{\"outlinewidth\":0,\"ticks\":\"\"}}}],\"scatterpolargl\":[{\"type\":\"scatterpolargl\",\"marker\":{\"colorbar\":{\"outlinewidth\":0,\"ticks\":\"\"}}}],\"bar\":[{\"error_x\":{\"color\":\"#2a3f5f\"},\"error_y\":{\"color\":\"#2a3f5f\"},\"marker\":{\"line\":{\"color\":\"#E5ECF6\",\"width\":0.5},\"pattern\":{\"fillmode\":\"overlay\",\"size\":10,\"solidity\":0.2}},\"type\":\"bar\"}],\"scattergeo\":[{\"type\":\"scattergeo\",\"marker\":{\"colorbar\":{\"outlinewidth\":0,\"ticks\":\"\"}}}],\"scatterpolar\":[{\"type\":\"scatterpolar\",\"marker\":{\"colorbar\":{\"outlinewidth\":0,\"ticks\":\"\"}}}],\"histogram\":[{\"marker\":{\"pattern\":{\"fillmode\":\"overlay\",\"size\":10,\"solidity\":0.2}},\"type\":\"histogram\"}],\"scattergl\":[{\"type\":\"scattergl\",\"marker\":{\"colorbar\":{\"outlinewidth\":0,\"ticks\":\"\"}}}],\"scatter3d\":[{\"type\":\"scatter3d\",\"line\":{\"colorbar\":{\"outlinewidth\":0,\"ticks\":\"\"}},\"marker\":{\"colorbar\":{\"outlinewidth\":0,\"ticks\":\"\"}}}],\"scattermapbox\":[{\"type\":\"scattermapbox\",\"marker\":{\"colorbar\":{\"outlinewidth\":0,\"ticks\":\"\"}}}],\"scatterternary\":[{\"type\":\"scatterternary\",\"marker\":{\"colorbar\":{\"outlinewidth\":0,\"ticks\":\"\"}}}],\"scattercarpet\":[{\"type\":\"scattercarpet\",\"marker\":{\"colorbar\":{\"outlinewidth\":0,\"ticks\":\"\"}}}],\"carpet\":[{\"aaxis\":{\"endlinecolor\":\"#2a3f5f\",\"gridcolor\":\"white\",\"linecolor\":\"white\",\"minorgridcolor\":\"white\",\"startlinecolor\":\"#2a3f5f\"},\"baxis\":{\"endlinecolor\":\"#2a3f5f\",\"gridcolor\":\"white\",\"linecolor\":\"white\",\"minorgridcolor\":\"white\",\"startlinecolor\":\"#2a3f5f\"},\"type\":\"carpet\"}],\"table\":[{\"cells\":{\"fill\":{\"color\":\"#EBF0F8\"},\"line\":{\"color\":\"white\"}},\"header\":{\"fill\":{\"color\":\"#C8D4E3\"},\"line\":{\"color\":\"white\"}},\"type\":\"table\"}],\"barpolar\":[{\"marker\":{\"line\":{\"color\":\"#E5ECF6\",\"width\":0.5},\"pattern\":{\"fillmode\":\"overlay\",\"size\":10,\"solidity\":0.2}},\"type\":\"barpolar\"}],\"pie\":[{\"automargin\":true,\"type\":\"pie\"}]},\"layout\":{\"autotypenumbers\":\"strict\",\"colorway\":[\"#636efa\",\"#EF553B\",\"#00cc96\",\"#ab63fa\",\"#FFA15A\",\"#19d3f3\",\"#FF6692\",\"#B6E880\",\"#FF97FF\",\"#FECB52\"],\"font\":{\"color\":\"#2a3f5f\"},\"hovermode\":\"closest\",\"hoverlabel\":{\"align\":\"left\"},\"paper_bgcolor\":\"white\",\"plot_bgcolor\":\"#E5ECF6\",\"polar\":{\"bgcolor\":\"#E5ECF6\",\"angularaxis\":{\"gridcolor\":\"white\",\"linecolor\":\"white\",\"ticks\":\"\"},\"radialaxis\":{\"gridcolor\":\"white\",\"linecolor\":\"white\",\"ticks\":\"\"}},\"ternary\":{\"bgcolor\":\"#E5ECF6\",\"aaxis\":{\"gridcolor\":\"white\",\"linecolor\":\"white\",\"ticks\":\"\"},\"baxis\":{\"gridcolor\":\"white\",\"linecolor\":\"white\",\"ticks\":\"\"},\"caxis\":{\"gridcolor\":\"white\",\"linecolor\":\"white\",\"ticks\":\"\"}},\"coloraxis\":{\"colorbar\":{\"outlinewidth\":0,\"ticks\":\"\"}},\"colorscale\":{\"sequential\":[[0.0,\"#0d0887\"],[0.1111111111111111,\"#46039f\"],[0.2222222222222222,\"#7201a8\"],[0.3333333333333333,\"#9c179e\"],[0.4444444444444444,\"#bd3786\"],[0.5555555555555556,\"#d8576b\"],[0.6666666666666666,\"#ed7953\"],[0.7777777777777778,\"#fb9f3a\"],[0.8888888888888888,\"#fdca26\"],[1.0,\"#f0f921\"]],\"sequentialminus\":[[0.0,\"#0d0887\"],[0.1111111111111111,\"#46039f\"],[0.2222222222222222,\"#7201a8\"],[0.3333333333333333,\"#9c179e\"],[0.4444444444444444,\"#bd3786\"],[0.5555555555555556,\"#d8576b\"],[0.6666666666666666,\"#ed7953\"],[0.7777777777777778,\"#fb9f3a\"],[0.8888888888888888,\"#fdca26\"],[1.0,\"#f0f921\"]],\"diverging\":[[0,\"#8e0152\"],[0.1,\"#c51b7d\"],[0.2,\"#de77ae\"],[0.3,\"#f1b6da\"],[0.4,\"#fde0ef\"],[0.5,\"#f7f7f7\"],[0.6,\"#e6f5d0\"],[0.7,\"#b8e186\"],[0.8,\"#7fbc41\"],[0.9,\"#4d9221\"],[1,\"#276419\"]]},\"xaxis\":{\"gridcolor\":\"white\",\"linecolor\":\"white\",\"ticks\":\"\",\"title\":{\"standoff\":15},\"zerolinecolor\":\"white\",\"automargin\":true,\"zerolinewidth\":2},\"yaxis\":{\"gridcolor\":\"white\",\"linecolor\":\"white\",\"ticks\":\"\",\"title\":{\"standoff\":15},\"zerolinecolor\":\"white\",\"automargin\":true,\"zerolinewidth\":2},\"scene\":{\"xaxis\":{\"backgroundcolor\":\"#E5ECF6\",\"gridcolor\":\"white\",\"linecolor\":\"white\",\"showbackground\":true,\"ticks\":\"\",\"zerolinecolor\":\"white\",\"gridwidth\":2},\"yaxis\":{\"backgroundcolor\":\"#E5ECF6\",\"gridcolor\":\"white\",\"linecolor\":\"white\",\"showbackground\":true,\"ticks\":\"\",\"zerolinecolor\":\"white\",\"gridwidth\":2},\"zaxis\":{\"backgroundcolor\":\"#E5ECF6\",\"gridcolor\":\"white\",\"linecolor\":\"white\",\"showbackground\":true,\"ticks\":\"\",\"zerolinecolor\":\"white\",\"gridwidth\":2}},\"shapedefaults\":{\"line\":{\"color\":\"#2a3f5f\"}},\"annotationdefaults\":{\"arrowcolor\":\"#2a3f5f\",\"arrowhead\":0,\"arrowwidth\":1},\"geo\":{\"bgcolor\":\"white\",\"landcolor\":\"#E5ECF6\",\"subunitcolor\":\"white\",\"showland\":true,\"showlakes\":true,\"lakecolor\":\"white\"},\"title\":{\"x\":0.05},\"mapbox\":{\"style\":\"light\"}}},\"margin\":{\"l\":0,\"r\":0,\"b\":0,\"t\":30},\"title\":{\"text\":\"3D Scatter Plot Example\"},\"scene\":{\"xaxis\":{\"title\":{\"text\":\"X-Axis\"}},\"yaxis\":{\"title\":{\"text\":\"Y-Axis\"}},\"zaxis\":{\"title\":{\"text\":\"Z-Axis\"}}}},                        {\"responsive\": true}                    ).then(function(){\n",
       "                            \n",
       "var gd = document.getElementById('05a01bc3-e43c-443b-9a06-1cfad6091e29');\n",
       "var x = new MutationObserver(function (mutations, observer) {{\n",
       "        var display = window.getComputedStyle(gd).display;\n",
       "        if (!display || display === 'none') {{\n",
       "            console.log([gd, 'removed!']);\n",
       "            Plotly.purge(gd);\n",
       "            observer.disconnect();\n",
       "        }}\n",
       "}});\n",
       "\n",
       "// Listen for the removal of the full notebook cells\n",
       "var notebookContainer = gd.closest('#notebook-container');\n",
       "if (notebookContainer) {{\n",
       "    x.observe(notebookContainer, {childList: true});\n",
       "}}\n",
       "\n",
       "// Listen for the clearing of the current output cell\n",
       "var outputEl = gd.closest('.output');\n",
       "if (outputEl) {{\n",
       "    x.observe(outputEl, {childList: true});\n",
       "}}\n",
       "\n",
       "                        })                };                });            </script>        </div>"
      ]
     },
     "metadata": {},
     "output_type": "display_data"
    }
   ],
   "source": [
    "#13. A Create a 3D scatter plot using Plotly \n",
    "import plotly.graph_objects as go \n",
    "\n",
    "np.random.seed(42)\n",
    "\n",
    "n_points = 100\n",
    "x = np.random.rand(n_points)  \n",
    "y = np.random.rand(n_points)  \n",
    "z = np.random.rand(n_points) \n",
    "\n",
    "fig = go.Figure(data=[go.Scatter3d(\n",
    "    x = x,\n",
    "    y = y,\n",
    "    z = z,\n",
    "    mode='markers',\n",
    "    marker=dict(\n",
    "        size=8, \n",
    "        color=z,\n",
    "        colorscale='Viridis', \n",
    "        opacity= 0.8\n",
    "    )\n",
    ")])\n",
    "\n",
    "fig.update_layout(\n",
    "    title= \"3D Scatter Plot Example\",\n",
    "    scene = dict(\n",
    "        xaxis_title=\"X-Axis\", \n",
    "        yaxis_title=\"Y-Axis\", \n",
    "        zaxis_title=\"Z-Axis\"\n",
    "    ),\n",
    "    margin= dict(l=0,r=0,b=0,t=30)\n",
    ")\n",
    "fig.show()"
   ]
  },
  {
   "cell_type": "code",
   "execution_count": null,
   "id": "7d76aa03-08ea-470a-b6a4-243fbc2891fb",
   "metadata": {},
   "outputs": [],
   "source": []
  },
  {
   "cell_type": "code",
   "execution_count": null,
   "id": "670329aa-401a-41a0-8ab6-d3555b224eb7",
   "metadata": {},
   "outputs": [],
   "source": []
  },
  {
   "cell_type": "code",
   "execution_count": null,
   "id": "92128ed4-a41e-400c-8e18-47e934b1d26c",
   "metadata": {},
   "outputs": [],
   "source": []
  },
  {
   "cell_type": "code",
   "execution_count": null,
   "id": "44e4598d-20e4-4608-81db-e24cdf6c8467",
   "metadata": {},
   "outputs": [],
   "source": []
  }
 ],
 "metadata": {
  "kernelspec": {
   "display_name": "Python 3 (ipykernel)",
   "language": "python",
   "name": "python3"
  },
  "language_info": {
   "codemirror_mode": {
    "name": "ipython",
    "version": 3
   },
   "file_extension": ".py",
   "mimetype": "text/x-python",
   "name": "python",
   "nbconvert_exporter": "python",
   "pygments_lexer": "ipython3",
   "version": "3.12.7"
  }
 },
 "nbformat": 4,
 "nbformat_minor": 5
}
